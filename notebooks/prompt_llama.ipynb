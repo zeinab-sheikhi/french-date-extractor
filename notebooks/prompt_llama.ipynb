{
 "cells": [
  {
   "cell_type": "markdown",
   "metadata": {},
   "source": [
    "## Date Extraction Using Llama LLM with Ollama: A Prompt Engineering Approach"
   ]
  },
  {
   "cell_type": "code",
   "execution_count": 1,
   "metadata": {},
   "outputs": [],
   "source": [
    "from datasets import load_dataset\n",
    "import ollama\n",
    "import re\n",
    "from ollama import chat"
   ]
  },
  {
   "cell_type": "code",
   "execution_count": null,
   "metadata": {},
   "outputs": [],
   "source": [
    "# Load the dataset\n",
    "dataset = load_dataset(\"maribr/publication_dates_fr\")\n",
    "train_ds = dataset['train']"
   ]
  },
  {
   "cell_type": "code",
   "execution_count": 3,
   "metadata": {},
   "outputs": [
    {
     "name": "stdout",
     "output_type": "stream",
     "text": [
      "                                                Text Gold published date  \\\n",
      "0  PROCES-VERBAL DE LA REUNION PUBLIQUE\\nDU CONSE...          16/01/2023   \n",
      "1  CONSEIL COMMUNAUTAIRE DU\\n25 JANVIER 2023\\nPRO...          25/01/2023   \n",
      "2  Date de mise en ligne de\\nl’acte : 02/ 02/2023...          02/02/2023   \n",
      "3  Envoyé en préfecture le 26/01/2023\\nReçu en pr...          26/01/2023   \n",
      "4       \\nFait à Bourg-en-Bresse, le 23 janvier 2023          16/01/2023   \n",
      "\n",
      "                                                 url  \n",
      "0  http://www.ville-saint-ay.fr/userfile/fichier-...  \n",
      "1  https://www.gatine-racan.fr/wp-content/uploads...  \n",
      "2  https://www.ville-mazeres.fr/IMG/pdf/2023_1_1.pdf  \n",
      "3  https://www.fier-et-usses.com/cms_viewFile.php...  \n",
      "4  https://www.grandbourg.fr/cms_viewFile.php?idt...  \n"
     ]
    }
   ],
   "source": [
    "# Convert the train dataset to a DataFrame\n",
    "df = train_ds.to_pandas()\n",
    "print(df.head())"
   ]
  },
  {
   "cell_type": "code",
   "execution_count": 4,
   "metadata": {},
   "outputs": [
    {
     "name": "stdout",
     "output_type": "stream",
     "text": [
      "SEANCE DU 27 FEVRIER 2023\n"
     ]
    }
   ],
   "source": [
    "print(df['Text'][5])"
   ]
  },
  {
   "cell_type": "code",
   "execution_count": 5,
   "metadata": {},
   "outputs": [],
   "source": [
    "def preprocess_french_text(text):\n",
    "    \"\"\"\n",
    "    Extracts the 5 words before each French-style date in the text and returns the cleaned text.\n",
    "    For None or empty inputs, returns a message indicating no input was found.\n",
    "    \"\"\"\n",
    "    if text is None or text.strip() == \"\":  # Check for None or empty/whitespace strings\n",
    "        return \"no input is found, output none\"\n",
    "\n",
    "    text = text.lower()  # Convert text to lowercase\n",
    "\n",
    "    # French month names (case-insensitive)\n",
    "    months = r\"(janvier|février|fevrier|mars|avril|mai|juin|juillet|août|aout|septembre|octobre|novembre|décembre|decembre)\"\n",
    "\n",
    "    # Regex pattern for French dates (with case-insensitive flag for month names)\n",
    "    date_pattern = fr\"(\\b\\d{{1,2}}(?:er)?\\s{months}\\s\\d{{4}})|(\\b\\d{{4}}-\\d{{2}}-\\d{{2}}\\b)|(\\b\\d{{1,2}}/\\d{{1,2}}/\\d{{4}}\\b)\"\n",
    "\n",
    "    # Find all matches\n",
    "    matches = re.finditer(date_pattern, text, re.IGNORECASE)\n",
    "\n",
    "    extracted_segments = []\n",
    "\n",
    "    for match in matches:\n",
    "        date = match.group(0)  # The date string\n",
    "        start_idx = match.start()  # Start index of the date in the text\n",
    "\n",
    "        # Extract 5 words before the date\n",
    "        before = text[:start_idx].split()[-5:]  # Get the last 5 words before the date\n",
    "        context = \" \".join(before) + \" \" + date\n",
    "\n",
    "        extracted_segments.append(context)\n",
    "\n",
    "    # Join extracted contexts with newline or return None if no matches\n",
    "    return \"\\n\".join(extracted_segments) if extracted_segments else None\n",
    "\n",
    "# Process the DataFrame\n",
    "df['preprocessed_text'] = df['Text'].apply(preprocess_french_text)"
   ]
  },
  {
   "cell_type": "code",
   "execution_count": 6,
   "metadata": {},
   "outputs": [
    {
     "name": "stdout",
     "output_type": "stream",
     "text": [
      "seance du 27 fevrier 2023\n"
     ]
    }
   ],
   "source": [
    "print(df['preprocessed_text'][5])"
   ]
  },
  {
   "cell_type": "code",
   "execution_count": 7,
   "metadata": {},
   "outputs": [],
   "source": [
    "responses = []\n",
    "\n",
    "for text in df['preprocessed_text']:\n",
    "    messages = [\n",
    "        {\n",
    "            'role': 'system',\n",
    "            'content': (\n",
    "                \"you are an useful data assistant\"\n",
    "                \"Your task is to identify the most probable publication date of online articles and output it in the format DD/MM/YYYY. \"\n",
    "                \"If no date is found, return 'None' without any additional text, formatting, or explanation.\"\n",
    "                \"Do not output code, tags, or additional explanations. Only provide the date in the required format or 'None'.\"\n",
    "                \"Always output only one date.\"\n",
    "                \"example of date: 01/01/2022\"\n",
    "                \"example : Fait à Bourg-en-Bresse, le 23 janvier 2023 output : 23/01/2023\"\n",
    "                \"example : input : None output : None\"\n",
    "                \"If multiple dates are present, choose the most probable publication date.\"\n",
    "                \"If the input is invalid or does not contain a valid publication date, output 'None'\"\n",
    "                \"Avoid including any formatting, code, or explanations in the output.\"\n",
    "            )\n",
    "        },\n",
    "        {\n",
    "            'role': 'user',\n",
    "            'content': text\n",
    "        }\n",
    "    ]\n",
    "    response = chat(model='llama3.2', messages=messages)\n",
    "    # put the extracted date in a new column\n",
    "    responses.append(response['message']['content'])"
   ]
  },
  {
   "cell_type": "code",
   "execution_count": 8,
   "metadata": {},
   "outputs": [
    {
     "name": "stdout",
     "output_type": "stream",
     "text": [
      "['16/01/2023', '25/01/2023', '13/01/2023', '26/01/2023', '23/01/2023']\n"
     ]
    }
   ],
   "source": [
    "print(responses[:5])"
   ]
  },
  {
   "cell_type": "code",
   "execution_count": 9,
   "metadata": {},
   "outputs": [],
   "source": [
    "# put the extracted date in a new column\n",
    "df['extracted_date'] = responses"
   ]
  },
  {
   "cell_type": "code",
   "execution_count": 10,
   "metadata": {},
   "outputs": [
    {
     "name": "stdout",
     "output_type": "stream",
     "text": [
      "Accuracy: 51.00%\n"
     ]
    }
   ],
   "source": [
    "# Calculate accuracy\n",
    "correct_predictions = (df['Gold published date'] == df['extracted_date']).sum()\n",
    "total_predictions = len(df)\n",
    "accuracy = correct_predictions / total_predictions\n",
    "\n",
    "print(f\"Accuracy: {accuracy:.2%}\")"
   ]
  },
  {
   "cell_type": "code",
   "execution_count": 11,
   "metadata": {},
   "outputs": [
    {
     "name": "stdout",
     "output_type": "stream",
     "text": [
      "255\n"
     ]
    }
   ],
   "source": [
    "print(correct_predictions)"
   ]
  }
 ],
 "metadata": {
  "kernelspec": {
   "display_name": "Python 3",
   "language": "python",
   "name": "python3"
  },
  "language_info": {
   "codemirror_mode": {
    "name": "ipython",
    "version": 3
   },
   "file_extension": ".py",
   "mimetype": "text/x-python",
   "name": "python",
   "nbconvert_exporter": "python",
   "pygments_lexer": "ipython3",
   "version": "3.12.4"
  }
 },
 "nbformat": 4,
 "nbformat_minor": 2
}
